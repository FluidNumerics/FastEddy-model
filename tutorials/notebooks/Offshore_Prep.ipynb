{
 "cells": [
  {
   "cell_type": "code",
   "execution_count": null,
   "id": "019fdba9-df12-453f-8c62-2067ca8abf25",
   "metadata": {},
   "outputs": [],
   "source": [
    "import numpy as np\n",
    "import xarray as xr\n",
    "import numpy.matlib\n",
    "from fetutorialfunctions import adjustRhoQvInitial"
   ]
  },
  {
   "cell_type": "code",
   "execution_count": null,
   "id": "f73ff196-b8b2-415b-b416-6a549b17420b",
   "metadata": {},
   "outputs": [],
   "source": [
    "path_base = \"INSERT_PATH_TO_YOUR_RUN_DIRECTORY\"\n",
    "file_FE_0 = path_base + '/output/FE_OFFSHORE.0'\n",
    "file_FE_0_ini = path_base + '/initial/FE_OFFSHORE.0'"
   ]
  },
  {
   "cell_type": "code",
   "execution_count": null,
   "id": "aae8e5ae-dade-4462-9c20-083e0ae417b4",
   "metadata": {},
   "outputs": [],
   "source": [
    "fe_data = xr.open_dataset(file_FE_0)\n",
    "fe_data"
   ]
  },
  {
   "cell_type": "markdown",
   "id": "221909c5-b5d1-48e9-9732-9638f2cdcd56",
   "metadata": {},
   "source": [
    "# Assign 1.0 to SeaMask required for offshore roughness parameterizations"
   ]
  },
  {
   "cell_type": "code",
   "execution_count": null,
   "id": "39cddf50-8559-4022-b9dc-d3ababc3bebe",
   "metadata": {},
   "outputs": [],
   "source": [
    "SeaMask = fe_data.SeaMask.isel(time=0).values"
   ]
  },
  {
   "cell_type": "code",
   "execution_count": null,
   "id": "41617fe2-b4a5-452b-9c05-4b230bbd057f",
   "metadata": {},
   "outputs": [],
   "source": [
    "SeaMask_n = np.zeros(SeaMask.shape)\n",
    "SeaMask_n[:,:] = 1.0"
   ]
  },
  {
   "cell_type": "markdown",
   "id": "589564fe-8368-487c-84ca-c776eaa7f308",
   "metadata": {},
   "source": [
    "# Create initial condition for qv and adjust rho accordinly "
   ]
  },
  {
   "cell_type": "code",
   "execution_count": null,
   "id": "a7fb09a8-2821-498c-a932-962cf5dbfa63",
   "metadata": {},
   "outputs": [],
   "source": [
    "# From FastEddy's parameters file\n",
    "BS_Dict = {'stabilityScheme': 2,\n",
    "           'temp_grnd': 288.000,\n",
    "           'pres_grnd': 100000.0,\n",
    "           'zStableBottom': 925.0,\n",
    "           'stableGradient': 0.003,\n",
    "           'zStableBottom2': 1075.0,\n",
    "           'stableGradient2': 0.003,\n",
    "           'zStableBottom3': 50000.0,\n",
    "           'stableGradient3': 0.003,}"
   ]
  },
  {
   "cell_type": "code",
   "execution_count": null,
   "id": "a5d41def-c217-47c9-9ff4-ae23dce08d0b",
   "metadata": {},
   "outputs": [],
   "source": [
    "# User-specified qv profile\n",
    "zq_lev = [0.0, 925.0, 1075.0, 5000.0] # m\n",
    "qv_lev = [10.0, 8.15, 7.85, 0.0] # g/kg\n",
    "qv_skin = 14.0 # g/kg\n",
    "###\n",
    "dqdz = np.zeros(len(zq_lev)-1)\n",
    "dqdz[0] = (qv_lev[1]-qv_lev[0])/zq_lev[1]\n",
    "dqdz[1] = (qv_lev[2]-qv_lev[1])/(zq_lev[2]-zq_lev[1])\n",
    "dqdz[2] = (qv_lev[3]-qv_lev[2])/(zq_lev[3]-zq_lev[2])\n",
    "print('dqdz=',dqdz)"
   ]
  },
  {
   "cell_type": "code",
   "execution_count": null,
   "id": "190cb71b-8a6d-4086-ab93-54623c47bb64",
   "metadata": {},
   "outputs": [],
   "source": [
    "# Vertical grid (1d profile)\n",
    "z_prof_1d = np.squeeze(fe_data.zPos.isel(time=0,yIndex=0,xIndex=0).values)"
   ]
  },
  {
   "cell_type": "code",
   "execution_count": null,
   "id": "8735d282-64e5-4f26-9248-34b13b3a63c1",
   "metadata": {},
   "outputs": [],
   "source": [
    "rhom_prof,qv_prof = adjustRhoQvInitial(z_prof_1d, BS_Dict, qv_lev, zq_lev, dqdz)"
   ]
  },
  {
   "cell_type": "code",
   "execution_count": null,
   "id": "ed8de249-dfd7-42bd-a8d2-d02722487dc6",
   "metadata": {},
   "outputs": [],
   "source": [
    "rhom_2d = np.tile(rhom_prof, [fe_data.sizes['xIndex'], 1])\n",
    "print('rhom_2d.shape=',rhom_2d.shape)\n",
    "rhom_3d = np.tile(rhom_2d, [fe_data.sizes['yIndex'], 1, 1])\n",
    "print('rhom_3d.shape=',rhom_3d.shape)\n",
    "rhom_3d_n = np.transpose(rhom_3d,[2,0,1])\n",
    "print('rhom_3d_n.shape=',rhom_3d_n.shape)"
   ]
  },
  {
   "cell_type": "code",
   "execution_count": null,
   "id": "b9eadf5a-ae07-40d2-8934-5147095c82c4",
   "metadata": {},
   "outputs": [],
   "source": [
    "qv_2d = np.tile(qv_prof, [fe_data.sizes['xIndex'], 1])\n",
    "print('rhom_2d.shape=',rhom_2d.shape)\n",
    "qv_3d = np.tile(qv_2d, [fe_data.sizes['yIndex'], 1, 1])\n",
    "print('qv_3d.shape=',qv_3d.shape)\n",
    "qv_3d_n = np.transpose(qv_3d,[2,0,1])\n",
    "print('qv_3d_n.shape=',qv_3d_n.shape)"
   ]
  },
  {
   "cell_type": "code",
   "execution_count": null,
   "id": "3c025147-2968-4964-8126-853907a38864",
   "metadata": {},
   "outputs": [],
   "source": [
    "ds_out = fe_data"
   ]
  },
  {
   "cell_type": "code",
   "execution_count": null,
   "id": "708e4282-e205-4f1d-ab3b-251ea767b7a0",
   "metadata": {},
   "outputs": [],
   "source": [
    "ds_out['SeaMask'][0,:,:] = 1.0\n",
    "ds_out['qskin'][0,:,:] = qv_skin\n",
    "ds_out['qv'][0,:,:,:] = qv_3d_n\n",
    "ds_out['rho'][0,:,:,:] = rhom_3d_n"
   ]
  },
  {
   "cell_type": "code",
   "execution_count": null,
   "id": "b9c7dd1a-fd06-4ece-b478-e5cf797bd1f2",
   "metadata": {},
   "outputs": [],
   "source": [
    "ds_out.to_netcdf(file_FE_0_ini)"
   ]
  },
  {
   "cell_type": "code",
   "execution_count": null,
   "id": "cccde3e9-464b-4d2e-8d41-1605b7282685",
   "metadata": {},
   "outputs": [],
   "source": []
  }
 ],
 "metadata": {
  "kernelspec": {
   "display_name": "Python 3 (ipykernel)",
   "language": "python",
   "name": "python3"
  },
  "language_info": {
   "codemirror_mode": {
    "name": "ipython",
    "version": 3
   },
   "file_extension": ".py",
   "mimetype": "text/x-python",
   "name": "python",
   "nbconvert_exporter": "python",
   "pygments_lexer": "ipython3",
   "version": "3.11.9"
  }
 },
 "nbformat": 4,
 "nbformat_minor": 5
}
